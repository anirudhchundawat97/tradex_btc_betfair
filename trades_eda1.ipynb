{
 "cells": [
  {
   "cell_type": "code",
   "execution_count": 17,
   "id": "de1aeeb7-f79c-4f58-8406-16a177868946",
   "metadata": {},
   "outputs": [],
   "source": [
    "import pandas as pd\n",
    "import numpy as np\n",
    "pd.set_option(\"display.max_rows\",500)"
   ]
  },
  {
   "cell_type": "code",
   "execution_count": 1,
   "id": "af61f7fc-7ece-4d6f-863f-3c7bf4691266",
   "metadata": {},
   "outputs": [],
   "source": [
    "from transactions import get_event_transactions"
   ]
  },
  {
   "cell_type": "code",
   "execution_count": 6,
   "id": "9115313f-e32b-4c16-904a-bfe84396f0db",
   "metadata": {},
   "outputs": [],
   "source": [
    "event_trades = get_event_transactions(12179)\n",
    "event_trades = event_trades.iloc[::-1]"
   ]
  },
  {
   "cell_type": "code",
   "execution_count": 22,
   "id": "5f589d8b-e853-490e-bbcf-0af7a89134fa",
   "metadata": {},
   "outputs": [],
   "source": [
    "event_trades[\"cumamount\"] = event_trades[\"amount\"].cumsum()\n",
    "event_trades[\"cancelqty\"] = np.where(event_trades[\"status\"]==\"Bought\",event_trades[\"qty\"],-1*event_trades[\"qty\"])\n",
    "event_trades[\"netqty\"] = event_trades[\"cancelqty\"].cumsum()"
   ]
  },
  {
   "cell_type": "code",
   "execution_count": 12,
   "id": "4e94d9af-d16c-4d0e-88a8-78c4a97a05d4",
   "metadata": {},
   "outputs": [
    {
     "data": {
      "text/plain": [
       "<AxesSubplot:>"
      ]
     },
     "execution_count": 12,
     "metadata": {},
     "output_type": "execute_result"
    },
    {
     "data": {
      "image/png": "[encoded data removed]",
      "text/plain": [
       "<Figure size 432x288 with 1 Axes>"
      ]
     },
     "metadata": {
      "needs_background": "light"
     },
     "output_type": "display_data"
    }
   ],
   "source": [
    "event_trades[\"qty\"].plot()"
   ]
  },
  {
   "cell_type": "code",
   "execution_count": null,
   "id": "daec5820-c610-482b-8514-f9b3391ba02f",
   "metadata": {},
   "outputs": [],
   "source": [
    "event_trades"
   ]
  },
  {
   "cell_type": "code",
   "execution_count": null,
   "id": "601641d2-41fd-44fd-9484-59d2e1a94d1a",
   "metadata": {},
   "outputs": [],
   "source": []
  }
 ],
 "metadata": {
  "kernelspec": {
   "display_name": "Python 3 (ipykernel)",
   "language": "python",
   "name": "python3"
  },
  "language_info": {
   "codemirror_mode": {
    "name": "ipython",
    "version": 3
   },
   "file_extension": ".py",
   "mimetype": "text/x-python",
   "name": "python",
   "nbconvert_exporter": "python",
   "pygments_lexer": "ipython3",
   "version": "3.9.7"
  }
 },
 "nbformat": 4,
 "nbformat_minor": 5
}
