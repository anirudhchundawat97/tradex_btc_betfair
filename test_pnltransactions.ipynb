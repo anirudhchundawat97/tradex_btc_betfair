{
 "cells": [
  {
   "cell_type": "code",
   "execution_count": 6,
   "id": "7674618d-fa8e-4da6-be77-4d0d6ee57d1d",
   "metadata": {},
   "outputs": [],
   "source": [
    "from api_caller import tradex_caller\n",
    "from transactions import get_event_transactions,clean_transactions_df "
   ]
  },
  {
   "cell_type": "code",
   "execution_count": 7,
   "id": "068d37ea-a3f7-4acb-8d45-0d185fd22c4c",
   "metadata": {},
   "outputs": [],
   "source": [
    "import pandas as pd\n",
    "# pd.set_option"
   ]
  },
  {
   "cell_type": "code",
   "execution_count": 15,
   "id": "8a073761-6446-4113-a44c-dc4d7ba9db1e",
   "metadata": {},
   "outputs": [],
   "source": [
    "resp1 = tradex_caller(\"transactions\")\n",
    "resp1_df = pd.DataFrame(resp1[\"transactions\"])"
   ]
  },
  {
   "cell_type": "code",
   "execution_count": 37,
   "id": "5ff6f1bf-3ab5-4984-bc20-cd88f761ece6",
   "metadata": {},
   "outputs": [],
   "source": [
    "resp1_df[\"probeid\"] = (resp1_df[\"txnid\"].str[-5:]).astype(int)\n",
    "resp1_df[[\"mess1\",\"mess2\"]] = resp1_df[\"message\"].str.split(\"\\n\",expand=True)"
   ]
  },
  {
   "cell_type": "code",
   "execution_count": 43,
   "id": "ddacd699-2fcd-4331-816d-a182dcd5aa7a",
   "metadata": {},
   "outputs": [],
   "source": [
    "eid = 11929\n",
    "event_txn_df = resp1_df[resp1_df[\"probeid\"]==eid]"
   ]
  },
  {
   "cell_type": "code",
   "execution_count": 44,
   "id": "3890c332-7f63-441a-b439-8fa4ea491510",
   "metadata": {
    "collapsed": true,
    "jupyter": {
     "outputs_hidden": true
    },
    "tags": []
   },
   "outputs": [
    {
     "data": {
      "text/plain": [
       "array(['Closed (Rs. 1335.00 credited)',\n",
       "       ' Bought 15.00 shares x N (Rs. 89.00 each)',\n",
       "       ' Sold 1.00 shares x N (Rs. 89.00 each)',\n",
       "       ' Cancelled 5.00 shares x Y (Rs. 11.00 each)',\n",
       "       ' Bought 3.00 shares x N (Rs. 89.00 each)',\n",
       "       ' Sold 5.00 shares x Y (Rs. 13.00 each)',\n",
       "       ' Cancelled 3.00 shares x N (Rs. 81.00 each)',\n",
       "       ' Bought 5.00 shares x Y (Rs. 11.00 each)',\n",
       "       ' Cancelled 15.00 shares x Y (Rs. 12.00 each)',\n",
       "       ' Bought 3.00 shares x N (Rs. 81.00 each)',\n",
       "       ' Bought 15.00 shares x Y (Rs. 12.00 each)',\n",
       "       ' Cancelled 5.00 shares x Y (Rs. 12.00 each)',\n",
       "       ' Sold 1.00 shares x N (Rs. 87.00 each)',\n",
       "       ' Bought 13.00 shares x N (Rs. 88.00 each)',\n",
       "       ' Cancelled 12.00 shares x N (Rs. 86.00 each)',\n",
       "       ' Sold 2.00 shares x N (Rs. 87.00 each)',\n",
       "       ' Bought 14.00 shares x N (Rs. 86.00 each)',\n",
       "       ' Cancelled 15.00 shares x N (Rs. 84.00 each)',\n",
       "       ' Sold 1.00 shares x N (Rs. 85.00 each)',\n",
       "       ' Bought 15.00 shares x N (Rs. 84.00 each)',\n",
       "       ' Cancelled 14.00 shares x N (Rs. 84.00 each)',\n",
       "       ' Sold 1.00 shares x Y (Rs. 9.00 each)',\n",
       "       ' Sold 2.00 shares x Y (Rs. 10.00 each)',\n",
       "       ' Sold 1.00 shares x Y (Rs. 10.00 each)',\n",
       "       ' Sold 5.00 shares x Y (Rs. 10.00 each)',\n",
       "       ' Sold 15.00 shares x N (Rs. 90.00 each)',\n",
       "       ' Sold 5.00 shares x Y (Rs. 12.00 each)',\n",
       "       ' Cancelled 15.00 shares x N (Rs. 85.00 each)',\n",
       "       ' Sold 4.00 shares x N (Rs. 86.00 each)',\n",
       "       ' Bought 15.00 shares x N (Rs. 85.00 each)',\n",
       "       ' Cancelled 11.00 shares x N (Rs. 85.00 each)',\n",
       "       ' Cancelled 15.00 shares x N (Rs. 79.00 each)',\n",
       "       ' Bought 15.00 shares x N (Rs. 79.00 each)',\n",
       "       ' Cancelled 15.00 shares x N (Rs. 77.00 each)',\n",
       "       ' Bought 15.00 shares x N (Rs. 77.00 each)',\n",
       "       ' Bought 1.00 shares x Y (Rs. 13.00 each)',\n",
       "       ' Bought 1.00 shares x Y (Rs. 18.00 each)',\n",
       "       ' Sold 1.00 shares x Y (Rs. 18.00 each)',\n",
       "       ' Cancelled 14.00 shares x N (Rs. 44.00 each)',\n",
       "       ' Bought 15.00 shares x Y (Rs. 35.00 each)',\n",
       "       ' Sold 1.00 shares x N (Rs. 45.00 each)',\n",
       "       ' Bought 14.00 shares x N (Rs. 44.00 each)',\n",
       "       ' Cancelled 15.00 shares x N (Rs. 44.00 each)',\n",
       "       ' Bought 15.00 shares x N (Rs. 44.00 each)',\n",
       "       ' Cancelled 9.00 shares x N (Rs. 40.00 each)',\n",
       "       ' Sold 3.00 shares x N (Rs. 40.00 each)',\n",
       "       ' Bought 12.00 shares x N (Rs. 40.00 each)',\n",
       "       ' Cancelled 12.00 shares x N (Rs. 39.00 each)',\n",
       "       ' Bought 13.00 shares x N (Rs. 39.00 each)',\n",
       "       ' Cancelled 11.00 shares x N (Rs. 39.00 each)',\n",
       "       ' Sold 2.00 shares x N (Rs. 40.00 each)',\n",
       "       ' Cancelled 15.00 shares x Y (Rs. 35.00 each)',\n",
       "       ' Sold 1.00 shares x N (Rs. 56.00 each)',\n",
       "       ' Cancelled 12.00 shares x N (Rs. 55.00 each)',\n",
       "       ' Bought 15.00 shares x N (Rs. 55.00 each)',\n",
       "       ' Cancelled 13.00 shares x N (Rs. 55.00 each)',\n",
       "       ' Cancelled 15.00 shares x N (Rs. 40.00 each)',\n",
       "       ' Bought 15.00 shares x N (Rs. 40.00 each)',\n",
       "       ' Sold 8.00 shares x N (Rs. 41.00 each)',\n",
       "       ' Sold 10.00 shares x N (Rs. 41.00 each)',\n",
       "       ' Sold 9.00 shares x N (Rs. 44.00 each)',\n",
       "       ' Sold 2.00 shares x N (Rs. 68.00 each)',\n",
       "       ' Sold 1.00 shares x N (Rs. 68.00 each)',\n",
       "       ' Bought 15.00 shares x N (Rs. 67.00 each)',\n",
       "       ' Cancelled 15.00 shares x Y (Rs. 29.00 each)',\n",
       "       ' Bought 15.00 shares x Y (Rs. 29.00 each)',\n",
       "       ' Cancelled 15.00 shares x Y (Rs. 26.00 each)',\n",
       "       ' Cancelled 15.00 shares x N (Rs. 60.00 each)',\n",
       "       ' Bought 15.00 shares x Y (Rs. 26.00 each)',\n",
       "       ' Cancelled 15.00 shares x Y (Rs. 25.00 each)',\n",
       "       ' Bought 15.00 shares x N (Rs. 60.00 each)',\n",
       "       ' Cancelled 1.00 shares x N (Rs. 60.00 each)',\n",
       "       ' Bought 15.00 shares x Y (Rs. 25.00 each)',\n",
       "       ' Sold 14.00 shares x N (Rs. 62.00 each)',\n",
       "       ' Bought 1.00 shares x N (Rs. 60.00 each)',\n",
       "       ' Sold 1.00 shares x N (Rs. 62.00 each)',\n",
       "       ' Sold 1.00 shares x Y (Rs. 41.00 each)',\n",
       "       ' Cancelled 15.00 shares x Y (Rs. 40.00 each)',\n",
       "       ' Bought 15.00 shares x Y (Rs. 40.00 each)',\n",
       "       ' Cancelled 14.00 shares x Y (Rs. 40.00 each)',\n",
       "       ' Bought 15.00 shares x N (Rs. 61.00 each)',\n",
       "       ' Cancelled 15.00 shares x N (Rs. 57.00 each)',\n",
       "       ' Bought 15.00 shares x N (Rs. 57.00 each)',\n",
       "       ' Cancelled 13.00 shares x N (Rs. 53.00 each)',\n",
       "       ' Sold 2.00 shares x N (Rs. 57.00 each)',\n",
       "       ' Bought 13.00 shares x N (Rs. 53.00 each)',\n",
       "       ' Cancelled 8.00 shares x N (Rs. 53.00 each)',\n",
       "       ' Sold 5.00 shares x N (Rs. 57.00 each)',\n",
       "       ' Bought 8.00 shares x N (Rs. 53.00 each)',\n",
       "       ' Cancelled 3.00 shares x N (Rs. 53.00 each)',\n",
       "       ' Bought 3.00 shares x N (Rs. 53.00 each)',\n",
       "       ' Cancelled 2.00 shares x N (Rs. 53.00 each)',\n",
       "       ' Sold 1.00 shares x N (Rs. 57.00 each)',\n",
       "       ' Bought 2.00 shares x N (Rs. 53.00 each)',\n",
       "       ' Bought 2.00 shares x N (Rs. 57.00 each)',\n",
       "       ' Bought 15.00 shares x N (Rs. 56.00 each)',\n",
       "       ' Cancelled 15.00 shares x N (Rs. 55.00 each)',\n",
       "       ' Cancelled 15.00 shares x Y (Rs. 36.00 each)',\n",
       "       ' Bought 15.00 shares x Y (Rs. 36.00 each)'], dtype=object)"
      ]
     },
     "execution_count": 44,
     "metadata": {},
     "output_type": "execute_result"
    }
   ],
   "source": [
    "event_txn_df[\"mess2\"].unique()"
   ]
  },
  {
   "cell_type": "code",
   "execution_count": 64,
   "id": "8a5f602a-7c7e-4109-8ce1-e624a686cde9",
   "metadata": {},
   "outputs": [],
   "source": [
    "resp2df = get_event_transactions(11929)"
   ]
  },
  {
   "cell_type": "code",
   "execution_count": 65,
   "id": "cef4db89-c13e-4184-a2b7-d7b6cc74dfdd",
   "metadata": {},
   "outputs": [],
   "source": [
    "resp2df.loc[::-1].to_csv(\"trades_11929.csv\")"
   ]
  },
  {
   "cell_type": "code",
   "execution_count": 49,
   "id": "7957c147-43b6-4511-a084-b083dc454a8a",
   "metadata": {},
   "outputs": [
    {
     "data": {
      "text/plain": [
       "-1107.97"
      ]
     },
     "execution_count": 49,
     "metadata": {},
     "output_type": "execute_result"
    }
   ],
   "source": [
    "resp2df[\"amount\"].sum()"
   ]
  },
  {
   "cell_type": "code",
   "execution_count": 52,
   "id": "6aa1b03a-6dad-42d3-a450-59842919d3f9",
   "metadata": {},
   "outputs": [
    {
     "name": "stdout",
     "output_type": "stream",
     "text": [
      "11926   -781.4000000000005\n",
      "11927   -1633.2100000000005\n",
      "11928   -188.39999999999986\n",
      "11929   -1107.97\n",
      "total -3710.9800000000014\n"
     ]
    }
   ],
   "source": [
    "eids = [11926,11927,11928,11929]\n",
    "tot = 0\n",
    "for eid in eids:\n",
    "    tempdf = get_event_transactions(eid)\n",
    "    print(eid,\" \",tempdf[\"amount\"].sum())\n",
    "    tot += tempdf[\"amount\"].sum()\n",
    "print(\"total\",tot)"
   ]
  },
  {
   "cell_type": "code",
   "execution_count": 54,
   "id": "aa93e036-e9c3-4207-8113-3eabb619cb0a",
   "metadata": {},
   "outputs": [
    {
     "name": "stdout",
     "output_type": "stream",
     "text": [
      "12025   -124.22000000000025\n",
      "12026   -2064.2199999999993\n",
      "12027   -3994.4700000000003\n",
      "12028   35.51000000000067\n",
      "total -6147.4\n"
     ]
    }
   ],
   "source": [
    "eids = [12025,12026,12027,12028]\n",
    "tot = 0\n",
    "for eid in eids:\n",
    "    tempdf = get_event_transactions(eid)\n",
    "    print(eid,\" \",tempdf[\"amount\"].sum())\n",
    "    tot += tempdf[\"amount\"].sum()\n",
    "print(\"total\",tot)"
   ]
  },
  {
   "cell_type": "code",
   "execution_count": 59,
   "id": "b07bb190-ed59-4ca8-bfb1-eca8ba27776c",
   "metadata": {},
   "outputs": [],
   "source": [
    "import math"
   ]
  },
  {
   "cell_type": "code",
   "execution_count": 63,
   "id": "62ebb1d5-4e4d-463e-9278-1074ae335be4",
   "metadata": {},
   "outputs": [
    {
     "data": {
      "text/plain": [
       "3"
      ]
     },
     "execution_count": 63,
     "metadata": {},
     "output_type": "execute_result"
    }
   ],
   "source": [
    "math.ceil(2.001)"
   ]
  },
  {
   "cell_type": "code",
   "execution_count": null,
   "id": "66212df4-793d-499a-a2a5-a038f9aa60f8",
   "metadata": {},
   "outputs": [],
   "source": []
  }
 ],
 "metadata": {
  "kernelspec": {
   "display_name": "Python 3 (ipykernel)",
   "language": "python",
   "name": "python3"
  },
  "language_info": {
   "codemirror_mode": {
    "name": "ipython",
    "version": 3
   },
   "file_extension": ".py",
   "mimetype": "text/x-python",
   "name": "python",
   "nbconvert_exporter": "python",
   "pygments_lexer": "ipython3",
   "version": "3.9.7"
  }
 },
 "nbformat": 4,
 "nbformat_minor": 5
}
