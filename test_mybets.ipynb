{
 "cells": [
  {
   "cell_type": "code",
   "execution_count": 1,
   "id": "f70decd5-bc3f-4b2f-bad0-814919667296",
   "metadata": {},
   "outputs": [],
   "source": [
    "import requests as req\n",
    "import pandas as pd\n",
    "from api_caller import tradex_caller\n",
    "import numpy as np"
   ]
  },
  {
   "cell_type": "code",
   "execution_count": 2,
   "id": "7a268701-882a-47ca-b83c-fe462525d2b5",
   "metadata": {},
   "outputs": [],
   "source": [
    "pd.set_option(\"display.max_columns\",500)"
   ]
  },
  {
   "cell_type": "code",
   "execution_count": 3,
   "id": "f3ab9fa1-7cd9-45d6-8066-cd7b036f8967",
   "metadata": {},
   "outputs": [],
   "source": [
    "resp1 = pd.DataFrame(tradex_caller(\"mybetsv2\", body={\"eventsStatus\": \"'A','F'\"})[\"probes\"])"
   ]
  },
  {
   "cell_type": "code",
   "execution_count": 7,
   "id": "a2ddf469-84c9-418c-a928-084d45ddb269",
   "metadata": {},
   "outputs": [
    {
     "data": {
      "text/plain": [
       "id                                                                             9737\n",
       "createdat                                                  2022-09-16T14:35:11.699Z\n",
       "start_date                                                 2022-09-17T05:30:00.000Z\n",
       "settledate                                                 2022-09-18T06:30:00.000Z\n",
       "endsat                                                     2022-09-17T19:30:00.000Z\n",
       "totalamount                                                                     100\n",
       "is_price_editable                                                              True\n",
       "type                                                                            Bet\n",
       "imageurl                          https://theox-files.s3.ap-south-1.amazonaws.co...\n",
       "title                             Total Goals in Tottenham Hotspur vs Leicester ...\n",
       "resolution                        If the total goals scored by both the teams st...\n",
       "source                                    https://www.premierleague.com/match/74989\n",
       "is_variable_liquidity_pool                                                    False\n",
       "calls                             [{'rank': -1, 'coins': 67, 'callvalue': 'N', '...\n",
       "currentPrice                                                 {'yCP': 35, 'nCP': 67}\n",
       "yCP                                                                              35\n",
       "nCP                                                                              67\n",
       "summary                           [{'field': 'Investment', 'value': '₹3055'}, {'...\n",
       "current_value                                                                  3117\n",
       "avg_price_matched_contract_yes                                                  NaN\n",
       "total_matched_contract_yes                                                      NaN\n",
       "avg_price_matched_contract_no                                                   NaN\n",
       "total_matched_contract_no                                                       NaN\n",
       "Name: 1, dtype: object"
      ]
     },
     "execution_count": 7,
     "metadata": {},
     "output_type": "execute_result"
    }
   ],
   "source": [
    "resp1.iloc[1]#[\"calls\"]"
   ]
  },
  {
   "cell_type": "code",
   "execution_count": null,
   "id": "ef8afc7b-169b-42ab-91a6-4074cb2cf53d",
   "metadata": {},
   "outputs": [],
   "source": []
  }
 ],
 "metadata": {
  "kernelspec": {
   "display_name": "Python 3 (ipykernel)",
   "language": "python",
   "name": "python3"
  },
  "language_info": {
   "codemirror_mode": {
    "name": "ipython",
    "version": 3
   },
   "file_extension": ".py",
   "mimetype": "text/x-python",
   "name": "python",
   "nbconvert_exporter": "python",
   "pygments_lexer": "ipython3",
   "version": "3.9.7"
  }
 },
 "nbformat": 4,
 "nbformat_minor": 5
}
