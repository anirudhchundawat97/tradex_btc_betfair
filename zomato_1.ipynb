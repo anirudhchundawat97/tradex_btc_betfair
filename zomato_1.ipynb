{
 "cells": [
  {
   "cell_type": "code",
   "execution_count": 2,
   "id": "264278b3-e6af-445f-a420-e657b24685a6",
   "metadata": {},
   "outputs": [],
   "source": [
    "from bs4 import BeautifulSoup\n",
    "import requests"
   ]
  },
  {
   "cell_type": "code",
   "execution_count": 9,
   "id": "7102e166-467a-4983-9124-9e9ea1ab6611",
   "metadata": {},
   "outputs": [],
   "source": [
    "url = \"https://www.zomato.com/vadodara/order-food-online?delivery_subzone=10255\""
   ]
  },
  {
   "cell_type": "code",
   "execution_count": 10,
   "id": "eeb3cfc9-2cfc-4dfe-8ff9-ec3c0a5fd28e",
   "metadata": {},
   "outputs": [],
   "source": [
    "source = requests.get(url).text"
   ]
  },
  {
   "cell_type": "code",
   "execution_count": 11,
   "id": "1b88b390-365c-44fb-9f31-4fdff6007cef",
   "metadata": {},
   "outputs": [
    {
     "data": {
      "text/plain": [
       "'<HTML><HEAD>\\n<TITLE>Access Denied</TITLE>\\n</HEAD><BODY>\\n<H1>Access Denied</H1>\\n \\nYou don\\'t have permission to access \"http&#58;&#47;&#47;www&#46;zomato&#46;com&#47;vadodara&#47;order&#45;food&#45;online&#63;\" on this server.<P>\\nReference&#32;&#35;18&#46;bf8c2c31&#46;1665653171&#46;b8e4100\\n</BODY>\\n</HTML>\\n'"
      ]
     },
     "execution_count": 11,
     "metadata": {},
     "output_type": "execute_result"
    }
   ],
   "source": [
    "source"
   ]
  },
  {
   "cell_type": "code",
   "execution_count": null,
   "id": "589baae0-a935-46a9-8434-2953a5dc349e",
   "metadata": {},
   "outputs": [],
   "source": []
  }
 ],
 "metadata": {
  "kernelspec": {
   "display_name": "Python 3 (ipykernel)",
   "language": "python",
   "name": "python3"
  },
  "language_info": {
   "codemirror_mode": {
    "name": "ipython",
    "version": 3
   },
   "file_extension": ".py",
   "mimetype": "text/x-python",
   "name": "python",
   "nbconvert_exporter": "python",
   "pygments_lexer": "ipython3",
   "version": "3.9.7"
  }
 },
 "nbformat": 4,
 "nbformat_minor": 5
}
