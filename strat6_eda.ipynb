{
 "cells": [
  {
   "cell_type": "code",
   "execution_count": 8,
   "id": "58a1ef5d-7411-44dd-a264-f381ada146a6",
   "metadata": {},
   "outputs": [
    {
     "name": "stdout",
     "output_type": "stream",
     "text": [
      "INFO:order:2022-11-03 16:13:51,816:11559: Sent: Buying  Y @Rs90 qty15 in event 11559, message:Scalping yes\n",
      "\n",
      "INFO:order:2022-11-03 16:17:33,466:11559: Sent: Buying  N @Rs93 qty15 in event 11559, message:Scalping no\n",
      "\n",
      "INFO:order:2022-11-03 16:17:36,098:11559: Sent: Selling Y @Rs1 qty15 in event 11559, message:Selling opp side bought qty\n",
      "\n",
      "INFO:order:2022-11-03 16:17:39,506:11559: Sent: Buying  N @Rs93 qty15 in event 11559, message:Scalping no\n",
      "\n",
      "INFO:order:2022-11-03 16:19:15,504:11559: Sent: Selling N @Rs99 qty1 in event 11559, message:Selling w/ new qty\n",
      "\n",
      "INFO:order:2022-11-03 16:23:58,749:11559: Sent: Selling N @Rs99 qty16 in event 11559, message:Selling w/ new qty\n",
      "\n",
      "INFO:order:2022-11-03 16:25:32,235:11559: Sent: Buying  Y @Rs92 qty15 in event 11559, message:Scalping yes\n",
      "\n",
      "INFO:order:2022-11-03 16:25:35,727:11559: Sent: Selling N @Rs1 qty16 in event 11559, message:Selling opp side bought qty\n",
      "\n",
      "INFO:order:2022-11-03 16:25:37,400:11559: Sent: Buying  Y @Rs92 qty15 in event 11559, message:Scalping yes\n",
      "\n",
      "INFO:order:2022-11-03 16:25:39,662:11559: Sent: Selling N @Rs1 qty16 in event 11559, message:Selling opp side bought qty\n",
      "\n",
      "INFO:order:2022-11-03 16:26:59,708:11559: Sent: Buying  N @Rs94 qty1 in event 11559, message:Absorbing spread\n",
      "\n",
      "INFO:order:2022-11-03 16:27:01,388:11559: Sent: Buying  N @Rs93 qty15 in event 11559, message:Scalping no\n",
      "\n",
      "INFO:order:2022-11-03 16:27:03,566:11559: Sent: Selling Y @Rs1 qty30 in event 11559, message:Selling opp side bought qty\n",
      "\n",
      "INFO:order:2022-11-03 16:27:04,841:11559: Sent: Buying  N @Rs94 qty1 in event 11559, message:Absorbing spread\n",
      "\n",
      "INFO:order:2022-11-03 16:28:28,905:11559: Sent: Selling N @Rs99 qty1 in event 11559, message:Selling w/ new qty\n",
      "\n",
      "INFO:order:2022-11-03 16:29:59,431:11559: Sent: Selling N @Rs99 qty2 in event 11559, message:Selling w/ new qty\n",
      "\n",
      "INFO:order:2022-11-03 16:43:48,078:11559: Sent: Selling N @Rs99 qty12 in event 11559, message:Selling w/ new qty\n",
      "\n",
      "INFO:order:2022-11-03 16:45:14,510:11559: Sent: Selling N @Rs99 qty13 in event 11559, message:Selling w/ new qty\n",
      "\n",
      "INFO:order:2022-11-03 17:01:30,587:11559: Sent: Selling N @Rs99 qty17 in event 11559, message:Selling w/ new qty\n",
      "\n"
     ]
    }
   ],
   "source": [
    "with open(\"log_files/order2.log\",'r') as f:\n",
    "    for line in f:\n",
    "        if (\"Sent\" in line) and (\"11559\" in line):\n",
    "            print (line)"
   ]
  },
  {
   "cell_type": "code",
   "execution_count": null,
   "id": "e0ebc654-5299-4b3c-a363-b8cfa2a85dcc",
   "metadata": {},
   "outputs": [],
   "source": []
  }
 ],
 "metadata": {
  "kernelspec": {
   "display_name": "Python 3 (ipykernel)",
   "language": "python",
   "name": "python3"
  },
  "language_info": {
   "codemirror_mode": {
    "name": "ipython",
    "version": 3
   },
   "file_extension": ".py",
   "mimetype": "text/x-python",
   "name": "python",
   "nbconvert_exporter": "python",
   "pygments_lexer": "ipython3",
   "version": "3.9.7"
  }
 },
 "nbformat": 4,
 "nbformat_minor": 5
}
